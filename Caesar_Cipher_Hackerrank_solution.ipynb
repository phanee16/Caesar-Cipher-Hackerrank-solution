def caesarCipher(s, k):
    # Write your code here
    encrypted_str = ""
    for char in s:
        if char.isalpha():
            base = ord('a') if char.islower() else ord('A')
            encrypted_str += chr((ord(char) - base + k) % 26 + base)
        else:
            encrypted_str += char
    return encrypted_str
    
