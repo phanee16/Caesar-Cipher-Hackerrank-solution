{
  "nbformat": 4,
  "nbformat_minor": 0,
  "metadata": {
    "colab": {
      "provenance": [],
      "authorship_tag": "ABX9TyNPLj/JZRRWFnIXC9iHG7Tl",
      "include_colab_link": true
    },
    "kernelspec": {
      "name": "python3",
      "display_name": "Python 3"
    },
    "language_info": {
      "name": "python"
    }
  },
  "cells": [
    {
      "cell_type": "markdown",
      "metadata": {
        "id": "view-in-github",
        "colab_type": "text"
      },
      "source": [
        "<a href=\"https://colab.research.google.com/github/phanee16/Caesar-Cipher-Hackerrank-solution/blob/main/Caesar_Cipher_Hackerrank_solution.ipynb\" target=\"_parent\"><img src=\"https://colab.research.google.com/assets/colab-badge.svg\" alt=\"Open In Colab\"/></a>"
      ]
    },
    {
      "cell_type": "code",
      "source": [
        "def caesarCipher(s, k):\n",
        "    # Write your code here\n",
        "    encrypted_str = \"\"\n",
        "    for char in s:\n",
        "        if char.isalpha():\n",
        "            base = ord('a') if char.islower() else ord('A')\n",
        "            encrypted_str += chr((ord(char) - base + k) % 26 + base)\n",
        "        else:\n",
        "            encrypted_str += char\n",
        "    return encrypted_str"
      ],
      "metadata": {
        "id": "pcb5MjSp1xTH"
      },
      "execution_count": 1,
      "outputs": []
    },
    {
      "cell_type": "code",
      "source": [
        "s = 'middle-Outz'\n",
        "k = 2\n",
        "caesarCipher(s, k)"
      ],
      "metadata": {
        "colab": {
          "base_uri": "https://localhost:8080/",
          "height": 35
        },
        "id": "G1hH285u1xU6",
        "outputId": "5f78f20b-aff3-4a5e-9dbf-e49f47cad071"
      },
      "execution_count": 2,
      "outputs": [
        {
          "output_type": "execute_result",
          "data": {
            "text/plain": [
              "'okffng-Qwvb'"
            ],
            "application/vnd.google.colaboratory.intrinsic+json": {
              "type": "string"
            }
          },
          "metadata": {},
          "execution_count": 2
        }
      ]
    },
    {
      "cell_type": "code",
      "source": [
        "s = 'Always-Look-on-the-Bright-Side-of-Life'\n",
        "k = 5\n",
        "caesarCipher(s, k)"
      ],
      "metadata": {
        "colab": {
          "base_uri": "https://localhost:8080/",
          "height": 35
        },
        "id": "CU227CtU1xW-",
        "outputId": "12ab814d-e46e-43e3-a55b-0f37f1772a0e"
      },
      "execution_count": 3,
      "outputs": [
        {
          "output_type": "execute_result",
          "data": {
            "text/plain": [
              "'Fqbfdx-Qttp-ts-ymj-Gwnlmy-Xnij-tk-Qnkj'"
            ],
            "application/vnd.google.colaboratory.intrinsic+json": {
              "type": "string"
            }
          },
          "metadata": {},
          "execution_count": 3
        }
      ]
    },
    {
      "cell_type": "code",
      "source": [],
      "metadata": {
        "id": "hcDu9I8E1xYl"
      },
      "execution_count": null,
      "outputs": []
    }
  ]
}